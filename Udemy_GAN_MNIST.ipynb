{
 "cells": [
  {
   "cell_type": "code",
   "execution_count": 96,
   "metadata": {
    "collapsed": true
   },
   "outputs": [],
   "source": [
    "%matplotlib inline\n",
    "\n",
    "import pickle as pkl\n",
    "import numpy as np\n",
    "import tensorflow as tf\n",
    "import matplotlib.pyplot as plt"
   ]
  },
  {
   "cell_type": "markdown",
   "metadata": {},
   "source": [
    "### MNISTデータのダウンロードと読み込み"
   ]
  },
  {
   "cell_type": "code",
   "execution_count": 97,
   "metadata": {},
   "outputs": [
    {
     "name": "stdout",
     "output_type": "stream",
     "text": [
      "Extracting ../99.MNIST_data/train-images-idx3-ubyte.gz\n",
      "Extracting ../99.MNIST_data/train-labels-idx1-ubyte.gz\n",
      "Extracting ../99.MNIST_data/t10k-images-idx3-ubyte.gz\n",
      "Extracting ../99.MNIST_data/t10k-labels-idx1-ubyte.gz\n"
     ]
    }
   ],
   "source": [
    "#from tensorflow.examples.tutorials.mnist  import  input_data\n",
    "mnist = input_data.read_data_sets('../99.MNIST_data')"
   ]
  },
  {
   "cell_type": "markdown",
   "metadata": {},
   "source": [
    "### モデル作成"
   ]
  },
  {
   "cell_type": "code",
   "execution_count": 98,
   "metadata": {
    "collapsed": true
   },
   "outputs": [],
   "source": [
    "# real_dim : 本物データの次元\n",
    "# z_dim : フェイクデータの次元\n",
    "def model_imputs(real_dim, z_dim):\n",
    "    inputs_real = tf.placeholder(tf.float32, (None, real_dim), name='input_real')\n",
    "    inputs_z = tf.placeholder(tf.float32, (None, z_dim), name='input_z')\n",
    "    \n",
    "    return inputs_real, inputs_z"
   ]
  },
  {
   "cell_type": "code",
   "execution_count": 99,
   "metadata": {
    "collapsed": true
   },
   "outputs": [],
   "source": [
    "### generator関数\n",
    "# reuse : False 呼び出すたびに、関数のなかの前回実行時の値を保持するかどうかを指定\n",
    "def generator(z, out_dim, n_units=128, reuse=False, alpha=0.01):\n",
    "    with tf.variable_scope('generator', reuse=reuse):\n",
    "        h1 = tf.layers.dense(z, n_units, activation=None)\n",
    "        h1 = tf.maximum(alpha * h1, h1) # Leaky ReLU\n",
    "        \n",
    "        logits = tf.layers.dense(h1, out_dim, activation=None)\n",
    "        out = tf.tanh(logits)\n",
    "        \n",
    "        return out "
   ]
  },
  {
   "cell_type": "code",
   "execution_count": 100,
   "metadata": {
    "collapsed": true
   },
   "outputs": [],
   "source": [
    "### discriminator関数の定義\n",
    "# reuse : False 呼び出すたびに、関数のなかの前回実行時の値を保持するかどうかを指定\n",
    "def discriminator(z, n_units=128, reuse=False, alpha=0.01):\n",
    "    with tf.variable_scope('discriminator', reuse=reuse): # discriminatorと名前をつけて呼ばれた場合は前回の演算の値を保持する\n",
    "        h1 = tf.layers.dense(z, n_units, activation=None)\n",
    "        h1 = tf.maximum(alpha * h1, h1) # Leaky ReLU\n",
    "        \n",
    "        logits = tf.layers.dense(h1, 1, activation=None)\n",
    "        out = tf.sigmoid(logits)\n",
    "        \n",
    "        return out, logits\n",
    "    "
   ]
  },
  {
   "cell_type": "code",
   "execution_count": 101,
   "metadata": {
    "collapsed": true
   },
   "outputs": [],
   "source": [
    "### パイパーパラメータの初期化\n",
    "input_size = 784\n",
    "z_size = 100\n",
    "g_hidden_size = 128\n",
    "d_hidden_size = 128\n",
    "alpha = 0.01\n",
    "smooth = 0.1\n"
   ]
  },
  {
   "cell_type": "code",
   "execution_count": 102,
   "metadata": {
    "collapsed": true
   },
   "outputs": [],
   "source": [
    "# モデルを定義\n",
    "tf.reset_default_graph()\n",
    "\n",
    "input_real, input_z = model_imputs(input_size, z_size)\n",
    "\n",
    "g_model = generator(input_z, input_size, n_units=g_hidden_size, alpha=alpha)\n",
    "\n",
    "d_model_real, d_logits_real = discriminator(input_real, n_units=d_hidden_size, alpha=alpha)\n",
    "d_model_fake, d_logits_fake = discriminator(g_model, reuse=True, n_units=d_hidden_size, alpha=alpha)\n"
   ]
  },
  {
   "cell_type": "code",
   "execution_count": 103,
   "metadata": {
    "collapsed": true
   },
   "outputs": [],
   "source": [
    "# 損失関数を定義（D/G）\n",
    "# 正解から離れていると値が大きく発散する\n",
    "d_loss_real = tf.reduce_mean( tf.nn.sigmoid_cross_entropy_with_logits(logits=d_logits_real,\n",
    "                                                                      labels=tf.ones_like(d_logits_real) *(1-smooth)))\n",
    "d_loss_fake = tf.reduce_mean( tf.nn.sigmoid_cross_entropy_with_logits(logits=d_logits_fake,\n",
    "                                                                      labels=tf.zeros_like(d_logits_real)))\n",
    "\n",
    "d_loss = d_loss_real  + d_loss_fake\n",
    "\n",
    "# ランダムに生成された画像が本物として認識された誤差\n",
    "g_loss =  tf.reduce_mean(tf.nn.sigmoid_cross_entropy_with_logits(logits=d_logits_fake,\n",
    "                                                                labels=tf.ones_like(d_logits_fake)))\n"
   ]
  },
  {
   "cell_type": "code",
   "execution_count": 104,
   "metadata": {
    "collapsed": true
   },
   "outputs": [],
   "source": [
    "# 最適化手法を定義\n",
    "learning_rate = 0.002\n",
    "\n",
    "t_vars = tf.trainable_variables() # weight / bias を取り出す\n",
    "\n",
    "g_vars = [var for var in t_vars if var.name.startswith('generator')]\n",
    "d_vars = [var for var in t_vars if var.name.startswith('discriminator')]\n",
    "\n",
    "d_train_optimize = tf.train.AdamOptimizer(learning_rate).minimize(d_loss, var_list=d_vars)\n",
    "g_train_optimize = tf.train.AdamOptimizer(learning_rate).minimize(g_loss, var_list=g_vars)\n"
   ]
  },
  {
   "cell_type": "markdown",
   "metadata": {},
   "source": [
    "### バッチデータの確認"
   ]
  },
  {
   "cell_type": "code",
   "execution_count": 47,
   "metadata": {
    "collapsed": true
   },
   "outputs": [],
   "source": [
    "batch_size = 100\n",
    "batch = mnist.train.next_batch(batch_size)"
   ]
  },
  {
   "cell_type": "code",
   "execution_count": 70,
   "metadata": {},
   "outputs": [
    {
     "data": {
      "text/plain": [
       "array([[ 0.,  0.,  0., ...,  0.,  0.,  0.],\n",
       "       [ 0.,  0.,  0., ...,  0.,  0.,  0.],\n",
       "       [ 0.,  0.,  0., ...,  0.,  0.,  0.],\n",
       "       ..., \n",
       "       [ 0.,  0.,  0., ...,  0.,  0.,  0.],\n",
       "       [ 0.,  0.,  0., ...,  0.,  0.,  0.],\n",
       "       [ 0.,  0.,  0., ...,  0.,  0.,  0.]], dtype=float32)"
      ]
     },
     "execution_count": 70,
     "metadata": {},
     "output_type": "execute_result"
    }
   ],
   "source": [
    "batch[0] # ピクセルデータ\n"
   ]
  },
  {
   "cell_type": "code",
   "execution_count": 72,
   "metadata": {},
   "outputs": [
    {
     "data": {
      "text/plain": [
       "array([8, 4, 7, 4, 2, 5, 0, 0, 5, 3, 5, 8, 9, 4, 5, 1, 7, 3, 3, 0, 7, 6, 4,\n",
       "       1, 3, 8, 3, 5, 5, 0, 8, 9, 8, 5, 0, 5, 4, 4, 0, 4, 1, 5, 5, 0, 0, 9,\n",
       "       9, 6, 3, 8, 1, 2, 2, 4, 0, 6, 4, 5, 5, 3, 7, 6, 3, 1, 6, 0, 6, 4, 6,\n",
       "       7, 1, 6, 6, 6, 0, 3, 2, 1, 0, 0, 6, 9, 3, 6, 4, 7, 2, 7, 0, 0, 1, 8,\n",
       "       3, 8, 3, 9, 7, 3, 4, 9], dtype=uint8)"
      ]
     },
     "execution_count": 72,
     "metadata": {},
     "output_type": "execute_result"
    }
   ],
   "source": [
    "batch[1] # ラベルデータ"
   ]
  },
  {
   "cell_type": "markdown",
   "metadata": {
    "collapsed": true
   },
   "source": [
    "### トレーニングの実行"
   ]
  },
  {
   "cell_type": "code",
   "execution_count": 106,
   "metadata": {
    "scrolled": true
   },
   "outputs": [
    {
     "name": "stdout",
     "output_type": "stream",
     "text": [
      "epoch 1/100 Discriminator loss : 0.3498 Generator loss : 4.0542\n",
      "epoch 2/100 Discriminator loss : 0.4084 Generator loss : 3.8620\n",
      "epoch 3/100 Discriminator loss : 0.4670 Generator loss : 3.1155\n",
      "epoch 4/100 Discriminator loss : 1.1924 Generator loss : 9.3471\n",
      "epoch 5/100 Discriminator loss : 1.1594 Generator loss : 5.7142\n",
      "epoch 6/100 Discriminator loss : 0.9736 Generator loss : 1.6287\n",
      "epoch 7/100 Discriminator loss : 0.6964 Generator loss : 3.0794\n",
      "epoch 8/100 Discriminator loss : 0.9063 Generator loss : 2.6686\n",
      "epoch 9/100 Discriminator loss : 1.5219 Generator loss : 1.5159\n",
      "epoch 10/100 Discriminator loss : 0.7601 Generator loss : 2.2880\n",
      "epoch 11/100 Discriminator loss : 0.9341 Generator loss : 2.3508\n",
      "epoch 12/100 Discriminator loss : 1.1060 Generator loss : 2.7784\n",
      "epoch 13/100 Discriminator loss : 1.2590 Generator loss : 1.7820\n",
      "epoch 14/100 Discriminator loss : 1.7088 Generator loss : 2.7429\n",
      "epoch 15/100 Discriminator loss : 1.5709 Generator loss : 1.9200\n",
      "epoch 16/100 Discriminator loss : 1.3501 Generator loss : 1.4386\n",
      "epoch 17/100 Discriminator loss : 1.7261 Generator loss : 1.2844\n",
      "epoch 18/100 Discriminator loss : 1.0527 Generator loss : 2.1716\n",
      "epoch 19/100 Discriminator loss : 1.1143 Generator loss : 1.2200\n",
      "epoch 20/100 Discriminator loss : 0.9558 Generator loss : 2.5642\n",
      "epoch 21/100 Discriminator loss : 1.2074 Generator loss : 1.3353\n",
      "epoch 22/100 Discriminator loss : 0.8549 Generator loss : 2.9640\n",
      "epoch 23/100 Discriminator loss : 1.2485 Generator loss : 2.2625\n",
      "epoch 24/100 Discriminator loss : 1.0560 Generator loss : 1.9706\n",
      "epoch 25/100 Discriminator loss : 1.1732 Generator loss : 1.4716\n",
      "epoch 26/100 Discriminator loss : 1.5739 Generator loss : 1.6789\n",
      "epoch 27/100 Discriminator loss : 0.9763 Generator loss : 2.3875\n",
      "epoch 28/100 Discriminator loss : 1.1107 Generator loss : 1.6067\n",
      "epoch 29/100 Discriminator loss : 1.0492 Generator loss : 2.5111\n",
      "epoch 30/100 Discriminator loss : 0.8861 Generator loss : 1.6937\n",
      "epoch 31/100 Discriminator loss : 1.0427 Generator loss : 1.4558\n",
      "epoch 32/100 Discriminator loss : 1.0224 Generator loss : 1.7571\n",
      "epoch 33/100 Discriminator loss : 0.9206 Generator loss : 2.4800\n",
      "epoch 34/100 Discriminator loss : 0.8777 Generator loss : 2.5606\n",
      "epoch 35/100 Discriminator loss : 1.0819 Generator loss : 2.4839\n",
      "epoch 36/100 Discriminator loss : 0.8628 Generator loss : 2.2979\n",
      "epoch 37/100 Discriminator loss : 0.9620 Generator loss : 2.0486\n",
      "epoch 38/100 Discriminator loss : 0.7702 Generator loss : 2.2253\n",
      "epoch 39/100 Discriminator loss : 0.8020 Generator loss : 2.1315\n",
      "epoch 40/100 Discriminator loss : 0.8748 Generator loss : 1.9286\n",
      "epoch 41/100 Discriminator loss : 0.9204 Generator loss : 2.2183\n",
      "epoch 42/100 Discriminator loss : 0.8737 Generator loss : 2.3672\n",
      "epoch 43/100 Discriminator loss : 0.9783 Generator loss : 2.4491\n",
      "epoch 44/100 Discriminator loss : 1.3126 Generator loss : 2.0136\n",
      "epoch 45/100 Discriminator loss : 0.9945 Generator loss : 2.0342\n",
      "epoch 46/100 Discriminator loss : 0.8369 Generator loss : 2.7793\n",
      "epoch 47/100 Discriminator loss : 0.9890 Generator loss : 2.1696\n",
      "epoch 48/100 Discriminator loss : 1.0280 Generator loss : 1.7905\n",
      "epoch 49/100 Discriminator loss : 1.0430 Generator loss : 1.8764\n",
      "epoch 50/100 Discriminator loss : 0.9358 Generator loss : 1.7728\n",
      "epoch 51/100 Discriminator loss : 1.0957 Generator loss : 1.9163\n",
      "epoch 52/100 Discriminator loss : 1.1346 Generator loss : 1.5188\n",
      "epoch 53/100 Discriminator loss : 1.1123 Generator loss : 1.5669\n",
      "epoch 54/100 Discriminator loss : 1.0285 Generator loss : 1.9194\n",
      "epoch 55/100 Discriminator loss : 1.0504 Generator loss : 1.6331\n",
      "epoch 56/100 Discriminator loss : 1.1595 Generator loss : 1.6493\n",
      "epoch 57/100 Discriminator loss : 0.9489 Generator loss : 1.8125\n",
      "epoch 58/100 Discriminator loss : 1.1587 Generator loss : 1.3283\n",
      "epoch 59/100 Discriminator loss : 0.9465 Generator loss : 1.7417\n",
      "epoch 60/100 Discriminator loss : 0.9004 Generator loss : 1.9586\n",
      "epoch 61/100 Discriminator loss : 1.0728 Generator loss : 1.9265\n",
      "epoch 62/100 Discriminator loss : 0.9209 Generator loss : 1.6601\n",
      "epoch 63/100 Discriminator loss : 1.0246 Generator loss : 2.3560\n",
      "epoch 64/100 Discriminator loss : 1.2118 Generator loss : 1.5150\n",
      "epoch 65/100 Discriminator loss : 1.1083 Generator loss : 1.9751\n",
      "epoch 66/100 Discriminator loss : 1.0373 Generator loss : 2.0293\n",
      "epoch 67/100 Discriminator loss : 1.0516 Generator loss : 1.6071\n",
      "epoch 68/100 Discriminator loss : 0.7410 Generator loss : 2.2601\n",
      "epoch 69/100 Discriminator loss : 1.1286 Generator loss : 1.7102\n",
      "epoch 70/100 Discriminator loss : 0.9558 Generator loss : 1.8204\n",
      "epoch 71/100 Discriminator loss : 1.2484 Generator loss : 1.8659\n",
      "epoch 72/100 Discriminator loss : 1.0292 Generator loss : 1.7129\n",
      "epoch 73/100 Discriminator loss : 1.1040 Generator loss : 1.4651\n",
      "epoch 74/100 Discriminator loss : 1.0924 Generator loss : 1.4935\n",
      "epoch 75/100 Discriminator loss : 0.9977 Generator loss : 1.6685\n",
      "epoch 76/100 Discriminator loss : 0.8848 Generator loss : 2.9472\n",
      "epoch 77/100 Discriminator loss : 0.8551 Generator loss : 2.5867\n",
      "epoch 78/100 Discriminator loss : 0.9212 Generator loss : 1.8303\n",
      "epoch 79/100 Discriminator loss : 0.9847 Generator loss : 1.7979\n",
      "epoch 80/100 Discriminator loss : 1.1118 Generator loss : 1.8050\n",
      "epoch 81/100 Discriminator loss : 0.9778 Generator loss : 1.9157\n",
      "epoch 82/100 Discriminator loss : 0.9516 Generator loss : 1.7723\n",
      "epoch 83/100 Discriminator loss : 1.1104 Generator loss : 1.7823\n",
      "epoch 84/100 Discriminator loss : 1.0042 Generator loss : 1.6346\n",
      "epoch 85/100 Discriminator loss : 0.7534 Generator loss : 2.1847\n",
      "epoch 86/100 Discriminator loss : 0.9896 Generator loss : 1.4676\n",
      "epoch 87/100 Discriminator loss : 1.1528 Generator loss : 1.5543\n",
      "epoch 88/100 Discriminator loss : 1.1284 Generator loss : 1.2226\n",
      "epoch 89/100 Discriminator loss : 1.0396 Generator loss : 1.4495\n",
      "epoch 90/100 Discriminator loss : 1.1144 Generator loss : 1.5914\n",
      "epoch 91/100 Discriminator loss : 1.2419 Generator loss : 1.5578\n",
      "epoch 92/100 Discriminator loss : 1.2144 Generator loss : 1.3890\n",
      "epoch 93/100 Discriminator loss : 1.0843 Generator loss : 1.8465\n",
      "epoch 94/100 Discriminator loss : 0.9982 Generator loss : 1.6793\n",
      "epoch 95/100 Discriminator loss : 0.9694 Generator loss : 1.7668\n",
      "epoch 96/100 Discriminator loss : 1.1550 Generator loss : 1.3887\n",
      "epoch 97/100 Discriminator loss : 1.0972 Generator loss : 1.5165\n",
      "epoch 98/100 Discriminator loss : 1.1542 Generator loss : 1.6831\n",
      "epoch 99/100 Discriminator loss : 1.1162 Generator loss : 1.4639\n",
      "epoch 100/100 Discriminator loss : 1.1825 Generator loss : 1.2634\n"
     ]
    }
   ],
   "source": [
    "epochs = 100\n",
    "samples = []\n",
    "losses = []\n",
    "saver = tf.train.Saver(var_list=g_vars)\n",
    "\n",
    "with tf.Session() as sess:\n",
    "    sess.run(tf.global_variables_initializer())\n",
    "    for e in range(epochs):\n",
    "        for i in range (mnist.train.num_examples//batch_size):\n",
    "            batch = mnist.train.next_batch(batch_size)\n",
    "            \n",
    "            batch_images =  batch[0].reshape((batch_size, 784))\n",
    "            batch_images =  batch_images * 2 -1 # -1〜1の範囲に変換\n",
    "            \n",
    "            # Generator\n",
    "            batch_z = np.random.uniform(-1, 1, size=(batch_size, z_size))\n",
    "            \n",
    "            _ = sess.run(d_train_optimize, feed_dict={input_real : batch_images,  input_z: batch_z})\n",
    "            _ = sess.run(g_train_optimize, feed_dict={input_z : batch_z})\n",
    "            \n",
    "        train_loss_d = sess.run(d_loss, {input_z : batch_z, input_real : batch_images})\n",
    "        train_loss_g = g_loss.eval({input_z : batch_z})\n",
    "        \n",
    "        print (\"epoch {}/{}\".format(e+1, epochs),\n",
    "               \"Discriminator loss : {:.4f}\".format(train_loss_d),\n",
    "               \"Generator loss : {:.4f}\".format(train_loss_g))\n",
    "        \n",
    "        losses.append((train_loss_d,  train_loss_g))\n",
    "        \n",
    "        sample_z = np.random.uniform(-1, 1, size=(16, z_size))\n",
    "        gen_samples = sess.run(generator(input_z, input_size, n_units=g_hidden_size, reuse=True, alpha=alpha),\n",
    "                              feed_dict={input_z: sample_z})\n",
    "        \n",
    "        samples.append(gen_samples)\n",
    "        saver.save(sess, './checkpoints/generator.ckpt')\n",
    "        \n",
    "with open('training_samples.pkl', 'wb') as f:\n",
    "    pkl.dump(samples, f)\n",
    "\n",
    "    "
   ]
  },
  {
   "cell_type": "code",
   "execution_count": 139,
   "metadata": {},
   "outputs": [
    {
     "data": {
      "text/plain": [
       "<matplotlib.legend.Legend at 0x12852bf60>"
      ]
     },
     "execution_count": 139,
     "metadata": {},
     "output_type": "execute_result"
    },
    {
     "data": {
      "image/png": "[encoded data removed]",
      "text/plain": [
       "<matplotlib.figure.Figure at 0x12792f940>"
      ]
     },
     "metadata": {},
     "output_type": "display_data"
    }
   ],
   "source": [
    "# 学習結果（損失関数）の可視化\n",
    "fig, ax = plt.subplots()\n",
    "losses = np.array(losses)\n",
    "plt.plot(losses.T[0],  label='Discriminator') # 転置をして\n",
    "plt.plot(losses.T[1], label='Generator')\n",
    "plt.title('Train Losses')\n",
    "\n",
    "plt.legend()\n"
   ]
  },
  {
   "cell_type": "markdown",
   "metadata": {},
   "source": [
    "### 途中経過の可視化"
   ]
  },
  {
   "cell_type": "code",
   "execution_count": 133,
   "metadata": {
    "collapsed": true
   },
   "outputs": [],
   "source": [
    "def view_samples(epoch, samples):\n",
    "    fig, axes = plt.subplots(figsize=(7,7), nrows=4, ncols=4, sharey=True, sharex=True)\n",
    "    for ax, img in zip(axes.flatten(), samples[epoch]):       \n",
    "        ax.xaxis.set_visible(False)\n",
    "        ax.yaxis.set_visible(False)\n",
    "        im = ax.imshow(img.reshape((28, 28)), cmap='Greys_r')\n",
    "        \n",
    "    return fig, axes\n",
    "    "
   ]
  },
  {
   "cell_type": "code",
   "execution_count": 134,
   "metadata": {
    "collapsed": true
   },
   "outputs": [],
   "source": [
    "with open ('training_samples.pkl', 'rb') as f:\n",
    "    samples = pkl.load(f)\n",
    "    "
   ]
  },
  {
   "cell_type": "code",
   "execution_count": 141,
   "metadata": {},
   "outputs": [
    {
     "data": {
      "image/png": "[encoded data removed]",
      "text/plain": [
       "<matplotlib.figure.Figure at 0x127f4fd30>"
      ]
     },
     "metadata": {},
     "output_type": "display_data"
    }
   ],
   "source": [
    "_ = view_samples(69, samples)"
   ]
  },
  {
   "cell_type": "code",
   "execution_count": 137,
   "metadata": {
    "collapsed": true
   },
   "outputs": [],
   "source": [
    "rows, cols = 10, 6\n",
    "fig, axes = plt.subplots(figsize)"
   ]
  },
  {
   "cell_type": "code",
   "execution_count": 138,
   "metadata": {},
   "outputs": [
    {
     "data": {
      "text/plain": [
       "10"
      ]
     },
     "execution_count": 138,
     "metadata": {},
     "output_type": "execute_result"
    }
   ],
   "source": [
    "rows"
   ]
  },
  {
   "cell_type": "code",
   "execution_count": null,
   "metadata": {
    "collapsed": true
   },
   "outputs": [],
   "source": []
  },
  {
   "cell_type": "code",
   "execution_count": null,
   "metadata": {
    "collapsed": true
   },
   "outputs": [],
   "source": []
  },
  {
   "cell_type": "code",
   "execution_count": null,
   "metadata": {
    "collapsed": true
   },
   "outputs": [],
   "source": []
  },
  {
   "cell_type": "code",
   "execution_count": null,
   "metadata": {
    "collapsed": true
   },
   "outputs": [],
   "source": []
  }
 ],
 "metadata": {
  "kernelspec": {
   "display_name": "Python 3",
   "language": "python",
   "name": "python3"
  },
  "language_info": {
   "codemirror_mode": {
    "name": "ipython",
    "version": 3
   },
   "file_extension": ".py",
   "mimetype": "text/x-python",
   "name": "python",
   "nbconvert_exporter": "python",
   "pygments_lexer": "ipython3",
   "version": "3.6.1"
  }
 },
 "nbformat": 4,
 "nbformat_minor": 2
}
